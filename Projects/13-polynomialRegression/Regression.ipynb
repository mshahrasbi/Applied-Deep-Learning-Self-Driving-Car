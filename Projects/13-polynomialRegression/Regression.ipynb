{
  "nbformat": 4,
  "nbformat_minor": 0,
  "metadata": {
    "colab": {
      "name": "Regression.ipynb",
      "provenance": [],
      "collapsed_sections": []
    },
    "kernelspec": {
      "name": "python3",
      "display_name": "Python 3"
    }
  },
  "cells": [
    {
      "cell_type": "markdown",
      "metadata": {
        "id": "WUuTi5IxGYlT",
        "colab_type": "text"
      },
      "source": [
        "# **Polynomial Regression**\n",
        "In order to fit a continuous data set is the final tool that we need to acquire. In behaviorial cloning we are going to need to train a model that can predict steering angles based on a continuous spectrum. But before we dive into deep waters we will transition into behavioral cloning by first learning how to fit a model into a 2D continus  dataset.\n",
        "\n",
        "We looked at classification whoes sole purpose is to group the output into some class, let's now very briefly look at a regression type example linear regression which is used to pridict continous values based on a line which best models the relationship between the independent X and the dependent variable y the line which best fits a series of points in other words linear regression helps to predit values on a continuous spectrum rather than discrete classes. Linear regression is the simplest form of regression. The goal is to find the line parameterized by some set of slope and y (y = mx + b) intercept parameters which provide the best fit to our training data with the train network it can now produce one output which is the prediction for the unlabelled test input. However how would we train a NN to perform a linear regression? well it does by minimizing the loss over our data sets which would correspond to the mean squared error.\n",
        "\n",
        "We will better understand the process of creating a network for a regression type example by actually going ahead and implementing it in Keras."
      ]
    },
    {
      "cell_type": "code",
      "metadata": {
        "id": "oimInQjiGQop",
        "colab_type": "code",
        "outputId": "b5a08683-d741-4246-d96b-976c0c4db0b5",
        "colab": {
          "base_uri": "https://localhost:8080/",
          "height": 81
        }
      },
      "source": [
        "import numpy as np\n",
        "import matplotlib.pyplot as plt\n",
        "from keras.models import Sequential\n",
        "from keras.layers import Dense\n",
        "from keras.optimizers import Adam"
      ],
      "execution_count": 0,
      "outputs": [
        {
          "output_type": "stream",
          "text": [
            "Using TensorFlow backend.\n"
          ],
          "name": "stderr"
        },
        {
          "output_type": "display_data",
          "data": {
            "text/html": [
              "<p style=\"color: red;\">\n",
              "The default version of TensorFlow in Colab will soon switch to TensorFlow 2.x.<br>\n",
              "We recommend you <a href=\"https://www.tensorflow.org/guide/migrate\" target=\"_blank\">upgrade</a> now \n",
              "or ensure your notebook will continue to use TensorFlow 1.x via the <code>%tensorflow_version 1.x</code> magic:\n",
              "<a href=\"https://colab.research.google.com/notebooks/tensorflow_version.ipynb\" target=\"_blank\">more info</a>.</p>\n"
            ],
            "text/plain": [
              "<IPython.core.display.HTML object>"
            ]
          },
          "metadata": {
            "tags": []
          }
        }
      ]
    },
    {
      "cell_type": "markdown",
      "metadata": {
        "id": "TgvgwFLOMar_",
        "colab_type": "text"
      },
      "source": [
        "Let us first setup non-linear data by declaring the number of points which will equal 500, then we will setup the training data's x coordinates to be between a specific range, so we set x is equal to np.linspace() which returns evenly spaced numbers over a specified interval. The interval will be from -3 up +3 and then the 3rd arg we specify the number of points in the interval.\n",
        "Notice, this data forms a simple sinusoidal curve, this curve is obtained by setting each vertical value Y is equal to the sign of the correcponding X value. Simply enough Y=sin(x). So it will do just. Now lets plot our data by plt.scatter(). and you will get a sin graph.\n",
        "Let's add some noise to our data so that each point in this curve can deviate from its standard shape, by adding variances simply challenges are NN making it more difficult for it to learn. To add this variance we have a stats for every point it a vertical value y is going to vertically shift in a range of -0.5 up until 0.5 units from the curve to do this for every y value, we add:\n",
        "y = np.sin(X) + np.random.uniform(-0.5. 0.5, points)\n",
        "for all of our points, such that every point in y value based on whatever random number it is added to, that is between -0.5 and 0.5 vertical range and to ensure vertical results let's not forgot to seed our number generator with np.random.seed()."
      ]
    },
    {
      "cell_type": "code",
      "metadata": {
        "id": "Q5oNyoULK8eC",
        "colab_type": "code",
        "outputId": "c2447afa-5541-4ca7-bcd7-a85290af6d2d",
        "colab": {
          "base_uri": "https://localhost:8080/",
          "height": 282
        }
      },
      "source": [
        "np.random.seed()\n",
        "points = 500\n",
        "X = np.linspace(-3, 3, points)\n",
        "y = np.sin(X) + np.random.uniform(-0.5, 0.5, points)\n",
        "\n",
        "plt.scatter(X, y)"
      ],
      "execution_count": 0,
      "outputs": [
        {
          "output_type": "execute_result",
          "data": {
            "text/plain": [
              "<matplotlib.collections.PathCollection at 0x7fd67e7154e0>"
            ]
          },
          "metadata": {
            "tags": []
          },
          "execution_count": 2
        },
        {
          "output_type": "display_data",
          "data": {
            "image/png": "[encoded data removed]",
            "text/plain": [
              "<Figure size 432x288 with 1 Axes>"
            ]
          },
          "metadata": {
            "tags": []
          }
        }
      ]
    },
    {
      "cell_type": "markdown",
      "metadata": {
        "id": "_2XrTtluObOq",
        "colab_type": "text"
      },
      "source": [
        "We now train a NN to come up with a model that fits this data. Clearly this cannot be fixed by a simple preceptron based model so require the use of some hidden layers to obtain a model to fit this non-linear dataset. \n",
        "So like always we define our NN model by setting it equal to sequential. Then add a hidden layer to our model by adding a Dense layer, we will make use of 50 nodes in the hidden layer and since this is our first layer we have to specify the input nodes (input_dim), So how many input nodes should we have? Since we are dealing with a regression type example only one, and the activation will be sigmoid.\n",
        "We will have another set of nodes that a hidden layer with model.add(Dense()) with 30 nodes produced optimal results in this hidden layers with activation function sigmoid\n",
        "now as for the output layer we will add Dense layer and what we are trying to predict is the response variable y which would correspond to a single output node one.\n",
        "Once again we make use of the Adam optimizer with initial learning rates equal to 0.01\n",
        "\n",
        "we compile our model with the loss function of mean square error.\n",
        "What does a mean square error? \n",
        "Suppose we had a bunch of values so we start by drawing some regression line parameterized by a random set of weights. to measure how well this model fits, we calculate the standard error of the estimate, the mean squared error. the standard error of the estimate is a measure of the accuracy of the models prediction. These data points show the actual values the actual labels of a given input wereas the regression line shows the estimate value for each actual value there is a corresponding estimated value predicted by the linear model. the error in this case corresponds to how far the actual value is from the estimated value, the vertical distance between them so the error is pretty much obtained by comparing the estimated values with the actual values for all points. So mean squared is attained with the following formula:\n",
        "\n",
        "MSE = (1/n) SUM (yi - yi)^2 where i: 1->n\n",
        "\n",
        "where we take the actual value and subtract it by the estimated value returned by the model, take the square and then repeating the process for every point, summing up all the values which is then divided by the number of data points to optain total error.\n",
        "And now since any estimated y value within the line equals the lines equation X+ B, the formula can be rewritten as such:\n",
        "\n",
        "MSE = (1/n) SUM [yi - (mxi + B)]^2\n",
        "\n",
        "and the cost function the error is minimized and quite a familiar way using gradient desecent. Once again we take the gradient of the cost function as partial derivatives with respoect to both our parameters m and B and  the gradient of our cost function, whatever it evaluates to, tells us he current slope of our cost function, it tells us the direction where we should update our oarameters to reduce it. How does to do that? \n",
        "\n",
        "Suppose we had some cost function model as such, not necessarily relevant to this example. Naturally the gradient is a vector quantity that points in the direction of the greatest increase of our cost function and the direction of the greatest ascent where we start with a random particular choice of parameters denoted data and the cost function for this choice of parameters we will denote as j(tetha) and now to go towards thedirection of the greatest decrease towards gradient descent we move move along the -ve of the gradient towards the direction of greatest descent and we do this iteratively over some learning rate, looping through the dataset and updating the weights and biase values multiple times in the directionopposite the gradient until we have parameters that correspond to an acceptable error to a linear model that fits our data well.\n",
        "So that is the general theory behind the mean squared error and regressing type examples.\n"
      ]
    },
    {
      "cell_type": "markdown",
      "metadata": {
        "id": "SXJjCkGwVPjO",
        "colab_type": "text"
      },
      "source": [
        "So our last function was MSE and the optimizer we declare as 'adam'. Now let's train our model with model.fit() and we will train it based on the inputs X and the corresponding respons variables y and we will go through with 50 epochs.\n",
        "\n",
        "it looks like our model was trained to fit our sinusoidal dataset with a minimal loss of 0.1 which is relatively good.\n",
        "\n",
        "we replot the X, y and then lets get a visual of the nonlinear model taht was trained to fit our idea to do this what the model should return tous is all of its estimated y values, all the predictions which go along that train the regression curve. If we plot those estimated values with respect to thier corresponding X value we will get a visual of the curve. "
      ]
    },
    {
      "cell_type": "code",
      "metadata": {
        "id": "IkIOdE8APQpt",
        "colab_type": "code",
        "outputId": "d9125ae7-2ccc-4cad-96f5-32388e741d96",
        "colab": {
          "base_uri": "https://localhost:8080/",
          "height": 140
        }
      },
      "source": [
        "model = Sequential()\n",
        "model.add(Dense(50, activation='sigmoid', input_dim=1))\n",
        "model.add(Dense(30, activation='sigmoid'))\n",
        "model.add(Dense(1))"
      ],
      "execution_count": 0,
      "outputs": [
        {
          "output_type": "stream",
          "text": [
            "WARNING:tensorflow:From /usr/local/lib/python3.6/dist-packages/keras/backend/tensorflow_backend.py:66: The name tf.get_default_graph is deprecated. Please use tf.compat.v1.get_default_graph instead.\n",
            "\n",
            "WARNING:tensorflow:From /usr/local/lib/python3.6/dist-packages/keras/backend/tensorflow_backend.py:541: The name tf.placeholder is deprecated. Please use tf.compat.v1.placeholder instead.\n",
            "\n",
            "WARNING:tensorflow:From /usr/local/lib/python3.6/dist-packages/keras/backend/tensorflow_backend.py:4432: The name tf.random_uniform is deprecated. Please use tf.random.uniform instead.\n",
            "\n"
          ],
          "name": "stdout"
        }
      ]
    },
    {
      "cell_type": "code",
      "metadata": {
        "id": "bWT8MgAgSuNd",
        "colab_type": "code",
        "outputId": "40e7f67d-6dfa-411e-e755-f53c91c21fd0",
        "colab": {
          "base_uri": "https://localhost:8080/",
          "height": 1000
        }
      },
      "source": [
        "adam = Adam(lr=0.01)\n",
        "model.compile(loss='mse', optimizer=adam)\n",
        "model.fit(X, y, epochs=50)"
      ],
      "execution_count": 0,
      "outputs": [
        {
          "output_type": "stream",
          "text": [
            "WARNING:tensorflow:From /usr/local/lib/python3.6/dist-packages/keras/optimizers.py:793: The name tf.train.Optimizer is deprecated. Please use tf.compat.v1.train.Optimizer instead.\n",
            "\n",
            "WARNING:tensorflow:From /usr/local/lib/python3.6/dist-packages/keras/backend/tensorflow_backend.py:1033: The name tf.assign_add is deprecated. Please use tf.compat.v1.assign_add instead.\n",
            "\n",
            "WARNING:tensorflow:From /usr/local/lib/python3.6/dist-packages/keras/backend/tensorflow_backend.py:1020: The name tf.assign is deprecated. Please use tf.compat.v1.assign instead.\n",
            "\n",
            "WARNING:tensorflow:From /usr/local/lib/python3.6/dist-packages/keras/backend/tensorflow_backend.py:3005: The name tf.Session is deprecated. Please use tf.compat.v1.Session instead.\n",
            "\n",
            "Epoch 1/50\n",
            "WARNING:tensorflow:From /usr/local/lib/python3.6/dist-packages/keras/backend/tensorflow_backend.py:190: The name tf.get_default_session is deprecated. Please use tf.compat.v1.get_default_session instead.\n",
            "\n",
            "WARNING:tensorflow:From /usr/local/lib/python3.6/dist-packages/keras/backend/tensorflow_backend.py:197: The name tf.ConfigProto is deprecated. Please use tf.compat.v1.ConfigProto instead.\n",
            "\n",
            "WARNING:tensorflow:From /usr/local/lib/python3.6/dist-packages/keras/backend/tensorflow_backend.py:207: The name tf.global_variables is deprecated. Please use tf.compat.v1.global_variables instead.\n",
            "\n",
            "WARNING:tensorflow:From /usr/local/lib/python3.6/dist-packages/keras/backend/tensorflow_backend.py:216: The name tf.is_variable_initialized is deprecated. Please use tf.compat.v1.is_variable_initialized instead.\n",
            "\n",
            "WARNING:tensorflow:From /usr/local/lib/python3.6/dist-packages/keras/backend/tensorflow_backend.py:223: The name tf.variables_initializer is deprecated. Please use tf.compat.v1.variables_initializer instead.\n",
            "\n",
            "500/500 [==============================] - 1s 1ms/step - loss: 0.6153\n",
            "Epoch 2/50\n",
            "500/500 [==============================] - 0s 47us/step - loss: 0.2992\n",
            "Epoch 3/50\n",
            "500/500 [==============================] - 0s 42us/step - loss: 0.2395\n",
            "Epoch 4/50\n",
            "500/500 [==============================] - 0s 41us/step - loss: 0.2256\n",
            "Epoch 5/50\n",
            "500/500 [==============================] - 0s 40us/step - loss: 0.2191\n",
            "Epoch 6/50\n",
            "500/500 [==============================] - 0s 49us/step - loss: 0.2070\n",
            "Epoch 7/50\n",
            "500/500 [==============================] - 0s 50us/step - loss: 0.2004\n",
            "Epoch 8/50\n",
            "500/500 [==============================] - 0s 41us/step - loss: 0.1887\n",
            "Epoch 9/50\n",
            "500/500 [==============================] - 0s 53us/step - loss: 0.1852\n",
            "Epoch 10/50\n",
            "500/500 [==============================] - 0s 58us/step - loss: 0.1683\n",
            "Epoch 11/50\n",
            "500/500 [==============================] - 0s 43us/step - loss: 0.1566\n",
            "Epoch 12/50\n",
            "500/500 [==============================] - 0s 44us/step - loss: 0.1493\n",
            "Epoch 13/50\n",
            "500/500 [==============================] - 0s 45us/step - loss: 0.1413\n",
            "Epoch 14/50\n",
            "500/500 [==============================] - 0s 52us/step - loss: 0.1343\n",
            "Epoch 15/50\n",
            "500/500 [==============================] - 0s 43us/step - loss: 0.1294\n",
            "Epoch 16/50\n",
            "500/500 [==============================] - 0s 44us/step - loss: 0.1235\n",
            "Epoch 17/50\n",
            "500/500 [==============================] - 0s 52us/step - loss: 0.1260\n",
            "Epoch 18/50\n",
            "500/500 [==============================] - 0s 46us/step - loss: 0.1249\n",
            "Epoch 19/50\n",
            "500/500 [==============================] - 0s 51us/step - loss: 0.1170\n",
            "Epoch 20/50\n",
            "500/500 [==============================] - 0s 39us/step - loss: 0.1173\n",
            "Epoch 21/50\n",
            "500/500 [==============================] - 0s 55us/step - loss: 0.1232\n",
            "Epoch 22/50\n",
            "500/500 [==============================] - 0s 52us/step - loss: 0.1205\n",
            "Epoch 23/50\n",
            "500/500 [==============================] - 0s 40us/step - loss: 0.1326\n",
            "Epoch 24/50\n",
            "500/500 [==============================] - 0s 44us/step - loss: 0.1155\n",
            "Epoch 25/50\n",
            "500/500 [==============================] - 0s 46us/step - loss: 0.1152\n",
            "Epoch 26/50\n",
            "500/500 [==============================] - 0s 47us/step - loss: 0.1137\n",
            "Epoch 27/50\n",
            "500/500 [==============================] - 0s 47us/step - loss: 0.1161\n",
            "Epoch 28/50\n",
            "500/500 [==============================] - 0s 42us/step - loss: 0.1092\n",
            "Epoch 29/50\n",
            "500/500 [==============================] - 0s 56us/step - loss: 0.1055\n",
            "Epoch 30/50\n",
            "500/500 [==============================] - 0s 46us/step - loss: 0.1083\n",
            "Epoch 31/50\n",
            "500/500 [==============================] - 0s 47us/step - loss: 0.1023\n",
            "Epoch 32/50\n",
            "500/500 [==============================] - 0s 43us/step - loss: 0.1020\n",
            "Epoch 33/50\n",
            "500/500 [==============================] - 0s 50us/step - loss: 0.1020\n",
            "Epoch 34/50\n",
            "500/500 [==============================] - 0s 46us/step - loss: 0.1040\n",
            "Epoch 35/50\n",
            "500/500 [==============================] - 0s 46us/step - loss: 0.1047\n",
            "Epoch 36/50\n",
            "500/500 [==============================] - 0s 50us/step - loss: 0.1056\n",
            "Epoch 37/50\n",
            "500/500 [==============================] - 0s 73us/step - loss: 0.1039\n",
            "Epoch 38/50\n",
            "500/500 [==============================] - 0s 46us/step - loss: 0.1018\n",
            "Epoch 39/50\n",
            "500/500 [==============================] - 0s 58us/step - loss: 0.1011\n",
            "Epoch 40/50\n",
            "500/500 [==============================] - 0s 53us/step - loss: 0.0957\n",
            "Epoch 41/50\n",
            "500/500 [==============================] - 0s 46us/step - loss: 0.0964\n",
            "Epoch 42/50\n",
            "500/500 [==============================] - 0s 44us/step - loss: 0.1025\n",
            "Epoch 43/50\n",
            "500/500 [==============================] - 0s 42us/step - loss: 0.0982\n",
            "Epoch 44/50\n",
            "500/500 [==============================] - 0s 43us/step - loss: 0.1087\n",
            "Epoch 45/50\n",
            "500/500 [==============================] - 0s 54us/step - loss: 0.0943\n",
            "Epoch 46/50\n",
            "500/500 [==============================] - 0s 49us/step - loss: 0.0947\n",
            "Epoch 47/50\n",
            "500/500 [==============================] - 0s 41us/step - loss: 0.0929\n",
            "Epoch 48/50\n",
            "500/500 [==============================] - 0s 49us/step - loss: 0.0949\n",
            "Epoch 49/50\n",
            "500/500 [==============================] - 0s 50us/step - loss: 0.0934\n",
            "Epoch 50/50\n",
            "500/500 [==============================] - 0s 50us/step - loss: 0.0931\n"
          ],
          "name": "stdout"
        },
        {
          "output_type": "execute_result",
          "data": {
            "text/plain": [
              "<keras.callbacks.History at 0x7fd67e6cd240>"
            ]
          },
          "metadata": {
            "tags": []
          },
          "execution_count": 4
        }
      ]
    },
    {
      "cell_type": "code",
      "metadata": {
        "id": "o5vfo_8jWTDq",
        "colab_type": "code",
        "outputId": "f08e2b19-1489-4d0f-d8d5-e45e70fc6ba1",
        "colab": {
          "base_uri": "https://localhost:8080/",
          "height": 265
        }
      },
      "source": [
        "predictions = model.predict(X)\n",
        "plt.scatter(X, y)\n",
        "plt.plot(X, predictions, 'ro')\n",
        "plt.show()"
      ],
      "execution_count": 0,
      "outputs": [
        {
          "output_type": "display_data",
          "data": {
            "image/png": "[encoded data removed]",
            "text/plain": [
              "<Figure size 432x288 with 1 Axes>"
            ]
          },
          "metadata": {
            "tags": []
          }
        }
      ]
    },
    {
      "cell_type": "markdown",
      "metadata": {
        "id": "vNXjyHnDYHfU",
        "colab_type": "text"
      },
      "source": [
        "ultimately displaying the model that was trained to fit our data . Now that we have an understanding of regression type examples we can finally move on to the most exciting section of this course where we start building our self-driving car. "
      ]
    }
  ]
}