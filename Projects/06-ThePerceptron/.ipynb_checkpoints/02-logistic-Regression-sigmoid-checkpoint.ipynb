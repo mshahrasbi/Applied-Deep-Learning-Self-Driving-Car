{
 "cells": [
  {
   "cell_type": "code",
   "execution_count": 1,
   "metadata": {},
   "outputs": [],
   "source": [
    "import numpy as np\n",
    "import matplotlib.pyplot as plt"
   ]
  },
  {
   "cell_type": "code",
   "execution_count": 14,
   "metadata": {},
   "outputs": [
    {
     "ename": "SyntaxError",
     "evalue": "invalid syntax (<ipython-input-14-4f5b461939d8>, line 15)",
     "output_type": "error",
     "traceback": [
      "\u001b[1;36m  File \u001b[1;32m\"<ipython-input-14-4f5b461939d8>\"\u001b[1;36m, line \u001b[1;32m15\u001b[0m\n\u001b[1;33m    w = -0.2\u001b[0m\n\u001b[1;37m    ^\u001b[0m\n\u001b[1;31mSyntaxError\u001b[0m\u001b[1;31m:\u001b[0m invalid syntax\n"
     ]
    }
   ],
   "source": [
    "n_pts = 100\n",
    "np.random.seed(0) # each time runing this program we get same number of random\n",
    "bias = np.ones(n_pts)\n",
    "#\n",
    "random_x1_values = np.random.normal(10, 2, n_pts)\n",
    "random_x2_values = np.random.normal(12, 2, n_pts)\n",
    "top_region = np.array([random_x1_values, random_x2_values, bias]).T\n",
    "\n",
    "random_x3_values = np.random.normal(5, 2, n_pts)\n",
    "random_x4_values = np.random.normal(6, 2, n_pts)\n",
    "bottom_region = np.array([random_x3_values, random_x4_values, bias]).T\n",
    "\n",
    "all_points = np.vstack((top_region, bottom_region))\n",
    "\n",
    "w1 = -0.2\n",
    "w2 = -0.35\n",
    "b = 3.5\n",
    "line_parameters = np.matrix([w1, w2, b])\n",
    "x1 = bottom_region[:, 0].min()\n",
    "x2 = -b / w2 + x1 * (-w1 / w2)\n"
   ]
  },
  {
   "cell_type": "code",
   "execution_count": null,
   "metadata": {},
   "outputs": [],
   "source": [
    "_, ax = plt.subplots(figsize=(4,4))\n",
    "ax.scatter(top_region[:, 0], top_region[:, 1], color='r')\n",
    "ax.scatter(bottom_region[:, 0], bottom_region[:, 1], color='b')\n",
    "plt.show()"
   ]
  }
 ],
 "metadata": {
  "kernelspec": {
   "display_name": "Python 3",
   "language": "python",
   "name": "python3"
  },
  "language_info": {
   "codemirror_mode": {
    "name": "ipython",
    "version": 3
   },
   "file_extension": ".py",
   "mimetype": "text/x-python",
   "name": "python",
   "nbconvert_exporter": "python",
   "pygments_lexer": "ipython3",
   "version": "3.7.1"
  }
 },
 "nbformat": 4,
 "nbformat_minor": 2
}
