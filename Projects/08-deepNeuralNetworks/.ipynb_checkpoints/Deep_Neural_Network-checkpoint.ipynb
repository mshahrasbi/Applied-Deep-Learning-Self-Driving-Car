{
 "cells": [
  {
   "cell_type": "code",
   "execution_count": null,
   "metadata": {},
   "outputs": [],
   "source": [
    "import numpy as np\n",
    "import matplotlib.pyplot as plt\n",
    "import keras\n",
    "from sklearn import datasets\n",
    "from keras.models import Sequential\n",
    "from keras.layers import Dense\n",
    "from keras.optimizers import Adam"
   ]
  },
  {
   "cell_type": "code",
   "execution_count": null,
   "metadata": {},
   "outputs": [],
   "source": [
    "np.random.seed(0)"
   ]
  },
  {
   "cell_type": "code",
   "execution_count": null,
   "metadata": {},
   "outputs": [],
   "source": [
    "n_pts = 500\n",
    "# X is data points, y is the label related to each points\n",
    "# a high noise (i.e 0.8) will cause the data points to become overly convoluted\n",
    "# making it a lot harder to classify the data, you want to ensure that the noise is\n",
    "# kept relatively low (i.e 0.1)\n",
    "X, y = datasets.make_circles(n_samples = n_pts, random_state = 123, noise = 0.1, factor = 0.2)\n",
    "# print(X)\n",
    "# print(y)"
   ]
  },
  {
   "cell_type": "code",
   "execution_count": null,
   "metadata": {},
   "outputs": [],
   "source": [
    "plt.scatter(X[y==0, 0], X[y==0, 1])\n",
    "plt.scatter(X[y==1, 0], X[y==1, 1])"
   ]
  },
  {
   "cell_type": "code",
   "execution_count": null,
   "metadata": {},
   "outputs": [],
   "source": [
    "model = Sequential()\n",
    "model.add(Dense(4, input_shape = (2,), activation = 'sigmoid'))\n",
    "model.add(Dense(1, activation = 'sigmoid'))\n",
    "model.compile(Adam(lr = 0.01), 'binary_crossentropy', metrics = ['accuracy'])"
   ]
  },
  {
   "cell_type": "code",
   "execution_count": null,
   "metadata": {},
   "outputs": [],
   "source": [
    "h = model.fit(x = X, y = y, verbose = 1, batch_size = 20, epochs = 100, shuffle = 'true')"
   ]
  },
  {
   "cell_type": "code",
   "execution_count": null,
   "metadata": {},
   "outputs": [],
   "source": [
    "plt.plot(h.history['acc'])\n",
    "plt.xlabel('epoch')\n",
    "plt.legend(['accuracy'])\n",
    "plt.title('accuracy')\n",
    "# notice that this time at about 50 something epochs our model pretty much reached the max accuracy.\n",
    "# also training our network to fit our circular data took much longer to reachmax accuracy when compared to our \n",
    "# previous perceptron model where it only took 10 epochs, this can be attributed to the fact that our dataset\n",
    "# was more complex in this specific case requiring the network to run an increased number of epochs."
   ]
  },
  {
   "cell_type": "code",
   "execution_count": null,
   "metadata": {},
   "outputs": [],
   "source": [
    "plt.plot(h.history['loss'])\n",
    "plt.xlabel('epoch')\n",
    "plt.legend(['loss'])\n",
    "plt.title('loss')\n",
    "# it seems evident that the full 100 epochs run through was required for the lost function to fully minimize.\n",
    "# this is actually indicative of the fact that our dataset was more difficult to classify as opposed to the\n",
    "# linear separable data that we dealt with in the last section"
   ]
  },
  {
   "cell_type": "code",
   "execution_count": null,
   "metadata": {},
   "outputs": [],
   "source": [
    "def plot_decision_boundary(X, y, model):\n",
    "    X_span = np.linspace(min(X[:, 0]) - 0.25, max(X[:, 0]) + 0.25, 50)\n",
    "    y_span = np.linspace(min(X[:, 1]) - 0.25, max(X[:, 1]) + 0.25, 50)\n",
    "    xx, yy = np.meshgrid(X_span, y_span)\n",
    "    xx_, yy_ = xx.ravel(), yy.ravel()\n",
    "    grid = np.c_[xx_, yy_]\n",
    "    pred_func = model.predict(grid)\n",
    "    z = pred_func.reshape(xx.shape)\n",
    "    plt.contourf(xx, yy, z)"
   ]
  },
  {
   "cell_type": "code",
   "execution_count": null,
   "metadata": {},
   "outputs": [],
   "source": [
    "plot_decision_boundary(X, y, model)\n",
    "plt.scatter(X[:n_pts, 0], X[:n_pts, 1])\n",
    "plt.scatter(X[n_pts:, 0], X[n_pts:, 1])\n",
    "\n",
    "# clearly we can see that our decision boundary plot effectively separates our data points into the  appropriate labels\n",
    "# It classifies it in the sense that everything inside has a label of one, and everything outside is labeled zero.\n",
    "# plot contourf function, plots distinct contours zones, each of these contour zones represent an increased threshold\n",
    "# of probablility the dark blue zone on the very outer edge represents the lowet probablity of a point being labeled as one\n",
    "# this means that any point inside of this blue zone most likely has a label of zero, but now our model was trained so that\n",
    "# the probablity that a point is labeled as one increases as you go from the absolute blue contour zone to the absolute \n",
    "# yellow contour zone, any point inside of this yellow contour zoneis most likely going to have  label of 1."
   ]
  },
  {
   "cell_type": "code",
   "execution_count": null,
   "metadata": {},
   "outputs": [],
   "source": [
    "plot_decision_boundary(X, y, model)\n",
    "plt.scatter(X[:n_pts, 0], X[:n_pts, 1])\n",
    "plt.scatter(X[n_pts:, 0], X[n_pts:, 1])\n",
    "x1 = 0.1\n",
    "y1 = 0.75\n",
    "point = np.array([[x1, y1]])\n",
    "prediction = model.predict(point)\n",
    "plt.plot([x1], [y1], marker = 'o', markersize = 10, color ='red')\n",
    "print('prediction is :', prediction)"
   ]
  },
  {
   "cell_type": "code",
   "execution_count": null,
   "metadata": {},
   "outputs": [],
   "source": [
    "plot_decision_boundary(X, y, model)\n",
    "plt.scatter(X[:n_pts, 0], X[:n_pts, 1])\n",
    "plt.scatter(X[n_pts:, 0], X[n_pts:, 1])\n",
    "x1 = 0.1\n",
    "y1 = 0\n",
    "point = np.array([[x1, y1]])\n",
    "prediction = model.predict(point)\n",
    "plt.plot([x1], [y1], marker = 'o', markersize = 10, color ='red')\n",
    "print('prediction is :', prediction)"
   ]
  },
  {
   "cell_type": "code",
   "execution_count": null,
   "metadata": {},
   "outputs": [],
   "source": []
  }
 ],
 "metadata": {
  "kernelspec": {
   "display_name": "Python 3",
   "language": "python",
   "name": "python3"
  },
  "language_info": {
   "codemirror_mode": {
    "name": "ipython",
    "version": 3
   },
   "file_extension": ".py",
   "mimetype": "text/x-python",
   "name": "python",
   "nbconvert_exporter": "python",
   "pygments_lexer": "ipython3",
   "version": "3.7.1"
  }
 },
 "nbformat": 4,
 "nbformat_minor": 2
}
